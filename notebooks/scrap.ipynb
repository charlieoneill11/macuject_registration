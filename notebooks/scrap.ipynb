{
 "cells": [
  {
   "cell_type": "code",
   "execution_count": 1,
   "id": "8e9c2511-6d3e-496e-9738-489e5d7461e4",
   "metadata": {},
   "outputs": [],
   "source": [
    "from pathlib import Path\n",
    "import matplotlib.pyplot as plt\n",
    "import numpy as np\n",
    "import os\n",
    "import cv2\n",
    "from tqdm.notebook import tqdm\n",
    "from skimage.registration import optical_flow_tvl1, optical_flow_ilk\n",
    "from skimage.transform import warp\n",
    "from skimage.color import rgb2gray\n",
    "from skimage.metrics import structural_similarity as ssim\n",
    "from skimage.metrics import normalized_root_mse as nrmse"
   ]
  },
  {
   "cell_type": "code",
   "execution_count": 2,
   "id": "b11c2ccf-66f6-47a3-b654-5799d55ae88c",
   "metadata": {},
   "outputs": [],
   "source": [
    "def retrieve_images(patient_id = '156518', laterality = 'L'):\n",
    "    # Set the root directory for the patient data\n",
    "    root_dir = Path(f'../data/{patient_id}')\n",
    "\n",
    "    # Get the list of image filenames for the left eye\n",
    "    image_filenames = [f for f in os.listdir(root_dir) if f'{laterality}.png' in f]\n",
    "\n",
    "    # Read the images into a list\n",
    "    images = [cv2.imread(str(root_dir / f)) for f in image_filenames]\n",
    "\n",
    "    # Convert the images to grayscale\n",
    "    gray_images = [rgb2gray(img) for img in images]\n",
    "\n",
    "    # Register all images to the first image\n",
    "    template = gray_images[0]\n",
    "\n",
    "    # Remove invalid images\n",
    "    final_images = [x for x in gray_images[1:] if x.shape == template.shape]\n",
    "\n",
    "    return final_images, template"
   ]
  },
  {
   "cell_type": "code",
   "execution_count": 6,
   "id": "ade227c5-fcab-4198-8869-bef7f95eb61d",
   "metadata": {},
   "outputs": [],
   "source": [
    "import SimpleITK as sitk\n",
    "import numpy as np\n",
    "import os\n",
    "OUTPUT_DIR = 'output'"
   ]
  },
  {
   "cell_type": "code",
   "execution_count": 7,
   "id": "4d7026e7-c473-4fd8-82e8-116f176a40b5",
   "metadata": {},
   "outputs": [],
   "source": [
    "images, template = retrieve_images()"
   ]
  },
  {
   "cell_type": "code",
   "execution_count": 9,
   "id": "2cd20112-fa11-455a-88f5-b7ede45d3eec",
   "metadata": {},
   "outputs": [],
   "source": [
    "fixed_image =  sitk.GetImageFromArray(template, sitk.sitkFloat32)\n",
    "moving_image = sitk.GetImageFromArray(images[0], sitk.sitkFloat32)"
   ]
  },
  {
   "cell_type": "code",
   "execution_count": 10,
   "id": "f929677e-7901-41a1-964b-89f8650035ee",
   "metadata": {},
   "outputs": [
    {
     "ename": "RuntimeError",
     "evalue": "Exception thrown in SimpleITK CenteredTransformInitializer: /tmp/SimpleITK/Code/BasicFilters/src/sitkCenteredTransformInitializerFilter.cxx:87:\nsitk::ERROR: Transform parameter for CenteredTransformInitializerFilter doesn't match dimension!",
     "output_type": "error",
     "traceback": [
      "\u001b[0;31m---------------------------------------------------------------------------\u001b[0m",
      "\u001b[0;31mRuntimeError\u001b[0m                              Traceback (most recent call last)",
      "Input \u001b[0;32mIn [10]\u001b[0m, in \u001b[0;36m<cell line: 1>\u001b[0;34m()\u001b[0m\n\u001b[0;32m----> 1\u001b[0m initial_transform \u001b[38;5;241m=\u001b[39m \u001b[43msitk\u001b[49m\u001b[38;5;241;43m.\u001b[39;49m\u001b[43mCenteredTransformInitializer\u001b[49m\u001b[43m(\u001b[49m\u001b[43mfixed_image\u001b[49m\u001b[43m,\u001b[49m\u001b[43m \u001b[49m\n\u001b[1;32m      2\u001b[0m \u001b[43m                                                      \u001b[49m\u001b[43mmoving_image\u001b[49m\u001b[43m,\u001b[49m\u001b[43m \u001b[49m\n\u001b[1;32m      3\u001b[0m \u001b[43m                                                      \u001b[49m\u001b[43msitk\u001b[49m\u001b[38;5;241;43m.\u001b[39;49m\u001b[43mEuler3DTransform\u001b[49m\u001b[43m(\u001b[49m\u001b[43m)\u001b[49m\u001b[43m,\u001b[49m\u001b[43m \u001b[49m\n\u001b[1;32m      4\u001b[0m \u001b[43m                                                      \u001b[49m\u001b[43msitk\u001b[49m\u001b[38;5;241;43m.\u001b[39;49m\u001b[43mCenteredTransformInitializerFilter\u001b[49m\u001b[38;5;241;43m.\u001b[39;49m\u001b[43mGEOMETRY\u001b[49m\u001b[43m)\u001b[49m\n",
      "File \u001b[0;32m~/mambaforge/lib/python3.9/site-packages/SimpleITK/SimpleITK.py:9285\u001b[0m, in \u001b[0;36mCenteredTransformInitializer\u001b[0;34m(*args, **kwargs)\u001b[0m\n\u001b[1;32m   9266\u001b[0m \u001b[38;5;28;01mdef\u001b[39;00m \u001b[38;5;21mCenteredTransformInitializer\u001b[39m(\u001b[38;5;241m*\u001b[39margs, \u001b[38;5;241m*\u001b[39m\u001b[38;5;241m*\u001b[39mkwargs):\n\u001b[1;32m   9267\u001b[0m     \u001b[38;5;124mr\u001b[39m\u001b[38;5;124;03m\"\"\"\u001b[39;00m\n\u001b[1;32m   9268\u001b[0m \u001b[38;5;124;03m    CenteredTransformInitializer(Image fixedImage, Image movingImage, Transform transform, itk::simple::CenteredTransformInitializerFilter::OperationModeType operationMode=MOMENTS) -> Transform\u001b[39;00m\n\u001b[1;32m   9269\u001b[0m \n\u001b[0;32m   (...)\u001b[0m\n\u001b[1;32m   9283\u001b[0m \n\u001b[1;32m   9284\u001b[0m \u001b[38;5;124;03m    \"\"\"\u001b[39;00m\n\u001b[0;32m-> 9285\u001b[0m     \u001b[38;5;28;01mreturn\u001b[39;00m \u001b[43m_SimpleITK\u001b[49m\u001b[38;5;241;43m.\u001b[39;49m\u001b[43mCenteredTransformInitializer\u001b[49m\u001b[43m(\u001b[49m\u001b[38;5;241;43m*\u001b[39;49m\u001b[43margs\u001b[49m\u001b[43m,\u001b[49m\u001b[43m \u001b[49m\u001b[38;5;241;43m*\u001b[39;49m\u001b[38;5;241;43m*\u001b[39;49m\u001b[43mkwargs\u001b[49m\u001b[43m)\u001b[49m\n",
      "\u001b[0;31mRuntimeError\u001b[0m: Exception thrown in SimpleITK CenteredTransformInitializer: /tmp/SimpleITK/Code/BasicFilters/src/sitkCenteredTransformInitializerFilter.cxx:87:\nsitk::ERROR: Transform parameter for CenteredTransformInitializerFilter doesn't match dimension!"
     ]
    }
   ],
   "source": [
    "initial_transform = sitk.CenteredTransformInitializer(fixed_image, \n",
    "                                                      moving_image, \n",
    "                                                      sitk.Euler3DTransform(), \n",
    "                                                      sitk.CenteredTransformInitializerFilter.GEOMETRY)"
   ]
  },
  {
   "cell_type": "code",
   "execution_count": null,
   "id": "94248995-7449-4642-ad97-652e721bc554",
   "metadata": {},
   "outputs": [],
   "source": []
  }
 ],
 "metadata": {
  "kernelspec": {
   "display_name": "Python 3 (ipykernel)",
   "language": "python",
   "name": "python3"
  },
  "language_info": {
   "codemirror_mode": {
    "name": "ipython",
    "version": 3
   },
   "file_extension": ".py",
   "mimetype": "text/x-python",
   "name": "python",
   "nbconvert_exporter": "python",
   "pygments_lexer": "ipython3",
   "version": "3.9.13"
  }
 },
 "nbformat": 4,
 "nbformat_minor": 5
}
